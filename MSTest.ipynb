{
 "cells": [
  {
   "cell_type": "code",
   "execution_count": 1,
   "id": "ea70fb33",
   "metadata": {},
   "outputs": [],
   "source": [
    "# Импортируем необходимые библиотеки\n",
    "from neo4j import GraphDatabase"
   ]
  },
  {
   "cell_type": "code",
   "execution_count": 2,
   "id": "96573e95",
   "metadata": {},
   "outputs": [],
   "source": [
    "# Напишем класс-коннектор, для удобного соединения с neo4j\n",
    "class NeoConnection:\n",
    "    def __init__(self, uri, user, password):\n",
    "        self.driver = GraphDatabase.driver(uri, auth=(user, password))\n",
    "        \n",
    "    def close(self):\n",
    "        self.driver.close()\n",
    "        \n",
    "    def query(self, query, db=None):\n",
    "        assert self.driver is not None, 'No driver'\n",
    "        session = None\n",
    "        response = None\n",
    "        try:\n",
    "            session = self.driver.session(database=db) if db is not None else self.driver.session()\n",
    "            response = list(session.run(query))\n",
    "            \n",
    "        except Exception as ex:\n",
    "            print('Query failed:\\n', ex)\n",
    "        finally:\n",
    "            if session is not None:\n",
    "                session.close()\n",
    "        return response"
   ]
  },
  {
   "cell_type": "code",
   "execution_count": 3,
   "id": "77612eb4",
   "metadata": {},
   "outputs": [],
   "source": [
    "# Подключаемся\n",
    "connect = NeoConnection(uri='bolt://localhost:7687', user='neo4j', password='ms_test26284')"
   ]
  },
  {
   "cell_type": "code",
   "execution_count": 4,
   "id": "501d37fa",
   "metadata": {},
   "outputs": [
    {
     "data": {
      "text/plain": [
       "[]"
      ]
     },
     "execution_count": 4,
     "metadata": {},
     "output_type": "execute_result"
    }
   ],
   "source": [
    "# Передаем запрос\n",
    "connect.query('CREATE OR REPLACE DATABASE mstest')"
   ]
  },
  {
   "cell_type": "code",
   "execution_count": 5,
   "id": "68a847a4",
   "metadata": {},
   "outputs": [
    {
     "data": {
      "text/plain": [
       "[]"
      ]
     },
     "execution_count": 5,
     "metadata": {},
     "output_type": "execute_result"
    }
   ],
   "source": [
    "# Считываем данные из csv файла, предварительно скачанного с яндекс.диска и помещенного в папку импорта. \n",
    "# Это сделано (скачано и помещено в папку импорта) для того, чтобы не возиться с изменениями конфигурации neo4j\n",
    "query_string = '''\n",
    "LOAD CSV FROM \n",
    "\"file:///data_test.csv\"\n",
    "AS line FIELDTERMINATOR ';'\n",
    "WITH line WHERE toInteger(line[0]) IS NOT NULL\n",
    "MERGE (i:Ids {id: toInteger(line[0])})\n",
    "MERGE (e1:Event1 {FNMember: line[1]}) \n",
    "MERGE (e2:Event2 {FNMember: line[2]})\n",
    "CREATE (e1)-[:ids]->(i)\n",
    "CREATE (e2)-[:ids]->(i)\n",
    "'''\n",
    "connect.query(query_string, db='mstest')"
   ]
  },
  {
   "cell_type": "code",
   "execution_count": 6,
   "id": "54d5155d",
   "metadata": {},
   "outputs": [
    {
     "name": "stdout",
     "output_type": "stream",
     "text": [
      "[<Record properties(i)={'id': 70049}>, <Record properties(i)={'id': 92995}>, <Record properties(i)={'id': 117280}>, <Record properties(i)={'id': 177407}>, <Record properties(i)={'id': 358194}>, <Record properties(i)={'id': 390312}>, <Record properties(i)={'id': 523688}>, <Record properties(i)={'id': 551592}>, <Record properties(i)={'id': 613539}>, <Record properties(i)={'id': 716489}>, <Record properties(i)={'id': 765223}>, <Record properties(i)={'id': 850472}>, <Record properties(i)={'id': 873359}>, <Record properties(i)={'id': 938764}>, <Record properties(i)={'id': 985851}>]\n"
     ]
    }
   ],
   "source": [
    "# Достаем из бд те id у которых больше 2 связей \n",
    "query_string1 = '''\n",
    "MATCH (p)-[r]->(i:Ids)\n",
    "WITH i, count(*) as cnt\n",
    "WHERE cnt > 2\n",
    "RETURN properties(i)'''\n",
    "req = connect.query(query_string1, db='mstest')\n",
    "print(req)"
   ]
  },
  {
   "cell_type": "code",
   "execution_count": 7,
   "id": "57599a4d",
   "metadata": {},
   "outputs": [
    {
     "name": "stdout",
     "output_type": "stream",
     "text": [
      "[70049, 92995, 117280, 177407, 358194, 390312, 523688, 551592, 613539, 716489, 765223, 850472, 873359, 938764, 985851]\n"
     ]
    }
   ],
   "source": [
    "# Избавляемся от лишней информации и оставляем только id\n",
    "ids = []\n",
    "for i in req:\n",
    "    ids.append(i.value()['id'])\n",
    "print(ids)"
   ]
  },
  {
   "cell_type": "code",
   "execution_count": 8,
   "id": "91418c3f",
   "metadata": {},
   "outputs": [
    {
     "name": "stdout",
     "output_type": "stream",
     "text": [
      "<Record nodes(p)=[<Node element_id='4:2b23b6e5-ff0a-44c0-83e2-e396b4b17e6e:1001' labels=frozenset({'Event1'}) properties={'FNMember': 'Яшина Полина Евгеньевна'}>, <Node element_id='4:2b23b6e5-ff0a-44c0-83e2-e396b4b17e6e:878' labels=frozenset({'Ids'}) properties={'id': 70049}>]>\n"
     ]
    }
   ],
   "source": [
    "# Достаем из бд все графы с найденными выше id\n",
    "query_string2 = f'''\n",
    "MATCH p=()-[]->(i:Ids)\n",
    "WHERE i.id IN {ids}\n",
    "RETURN nodes(p)\n",
    "'''\n",
    "req1 = connect.query(query_string2, db='mstest')\n",
    "print(req1[0])"
   ]
  },
  {
   "cell_type": "code",
   "execution_count": 9,
   "id": "cd41306a",
   "metadata": {},
   "outputs": [
    {
     "name": "stdout",
     "output_type": "stream",
     "text": [
      "[\n",
      "    {\n",
      "        \"ФИО_Участника_События\": \"Зимнухова Карина Даниловна\",\n",
      "        \"id\": 132775\n",
      "    },\n",
      "    {\n",
      "        \"ФИО_Участника_События\": \"Зимнухова Карина Даниловна\",\n",
      "        \"id\": 241336\n",
      "    },\n",
      "    {\n",
      "        \"ФИО_Участника_События\": \"Зимнухова Карина Даниловна\",\n",
      "        \"id\": 346700\n",
      "    },\n",
      "    {\n",
      "        \"ФИО_Участника_События\": \"Зимнухова Карина Даниловна\",\n",
      "        \"id\": 348716\n",
      "    },\n",
      "    {\n",
      "        \"ФИО_Участника_События\": \"Зимнухова Карина Даниловна\",\n",
      "        \"id\": 504411\n",
      "    }\n",
      "]\n"
     ]
    }
   ],
   "source": [
    "# Функция для получения данных из бд\n",
    "def rest(fn: str):\n",
    "    import json\n",
    "    query_string = '''\n",
    "    MATCH (f)-[i]->(id) \n",
    "    WHERE f.FNMember = '%(fn)s'\n",
    "    RETURN {id: id.id, ФИО_Участника_События: f.FNMember} as FN\n",
    "    ''' % {\"fn\":fn}\n",
    "    try:\n",
    "        req = connect.query(query_string, db='mstest')\n",
    "    except Exception as ex:\n",
    "        print('Something went wrong:\\n', ex)\n",
    "    req1 = [record.value() for record in req]\n",
    "    req2 = json.dumps(req1, indent=4, ensure_ascii=False)\n",
    "    return req2\n",
    "print(rest('Зимнухова Карина Даниловна'))"
   ]
  },
  {
   "cell_type": "code",
   "execution_count": null,
   "id": "fdae3c6e",
   "metadata": {},
   "outputs": [],
   "source": []
  }
 ],
 "metadata": {
  "kernelspec": {
   "display_name": "Python 3 (ipykernel)",
   "language": "python",
   "name": "python3"
  },
  "language_info": {
   "codemirror_mode": {
    "name": "ipython",
    "version": 3
   },
   "file_extension": ".py",
   "mimetype": "text/x-python",
   "name": "python",
   "nbconvert_exporter": "python",
   "pygments_lexer": "ipython3",
   "version": "3.9.13"
  }
 },
 "nbformat": 4,
 "nbformat_minor": 5
}
